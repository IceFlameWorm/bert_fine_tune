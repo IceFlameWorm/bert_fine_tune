{
 "cells": [
  {
   "cell_type": "code",
   "execution_count": 1,
   "metadata": {},
   "outputs": [],
   "source": [
    "import sys\n",
    "sys.path.append('../../')\n",
    "\n",
    "# BERT_FINE_TUNE_PATH = '../../../bert_fine_tune/'\n",
    "# sys.path.append(BERT_FINE_TUNE_PATH)"
   ]
  },
  {
   "cell_type": "code",
   "execution_count": 2,
   "metadata": {},
   "outputs": [
    {
     "name": "stderr",
     "output_type": "stream",
     "text": [
      "INFO:pytorch_pretrained_bert.modeling:Better speed can be achieved with apex installed from https://www.github.com/nvidia/apex .\n",
      "INFO:pytorch_pretrained_bert.modeling_fine_tune:Better speed can be achieved with apex installed from https://www.github.com/nvidia/apex .\n"
     ]
    }
   ],
   "source": [
    "# from textpair.preprocess.dummy_preprocessor import DummyPreprocessor\n",
    "# from textpair.analyze.bert_analyzer import BertAnalyzer\n",
    "# from textpair.vectorize.bert_vectorizer import BertVectorizer\n",
    "# from textpair.model.bert_model import BertModel\n",
    "# from textpair.pair_ann import PairAnn\n",
    "# from textpair.semantic.base_semantic import BaseSemantic\n",
    "\n",
    "import logging\n",
    "\n",
    "logging.basicConfig(level=logging.INFO)\n",
    "\n",
    "import torch\n",
    "from pytorch_pretrained_bert.modeling_fine_tune import BertForPairWiseClassification\n",
    "from pytorch_pretrained_bert import BertTokenizer"
   ]
  },
  {
   "cell_type": "code",
   "execution_count": 3,
   "metadata": {},
   "outputs": [],
   "source": [
    "FINE_TUNED_PATH = '/efs/fine_tune/lcqmc/pairwise/lcqmc_fine_tune_40_1_3_5e-6/'"
   ]
  },
  {
   "cell_type": "code",
   "execution_count": 4,
   "metadata": {},
   "outputs": [
    {
     "name": "stderr",
     "output_type": "stream",
     "text": [
      "INFO:pytorch_pretrained_bert.modeling_fine_tune:loading weights file /efs/fine_tune/lcqmc/pairwise/lcqmc_fine_tune_40_1_3_5e-6/pytorch_model.bin\n",
      "INFO:pytorch_pretrained_bert.modeling_fine_tune:loading configuration file /efs/fine_tune/lcqmc/pairwise/lcqmc_fine_tune_40_1_3_5e-6/config.json\n",
      "INFO:pytorch_pretrained_bert.modeling_fine_tune:Model config {\n",
      "  \"attention_probs_dropout_prob\": 0.1,\n",
      "  \"directionality\": \"bidi\",\n",
      "  \"hidden_act\": \"gelu\",\n",
      "  \"hidden_dropout_prob\": 0.1,\n",
      "  \"hidden_size\": 768,\n",
      "  \"initializer_range\": 0.02,\n",
      "  \"intermediate_size\": 3072,\n",
      "  \"layer_norm_eps\": 1e-12,\n",
      "  \"max_position_embeddings\": 512,\n",
      "  \"num_attention_heads\": 12,\n",
      "  \"num_hidden_layers\": 12,\n",
      "  \"pooler_fc_size\": 768,\n",
      "  \"pooler_num_attention_heads\": 12,\n",
      "  \"pooler_num_fc_layers\": 3,\n",
      "  \"pooler_size_per_head\": 128,\n",
      "  \"pooler_type\": \"first_token_transform\",\n",
      "  \"type_vocab_size\": 2,\n",
      "  \"vocab_size\": 21128\n",
      "}\n",
      "\n",
      "INFO:pytorch_pretrained_bert.tokenization:loading vocabulary file /efs/fine_tune/lcqmc/pairwise/lcqmc_fine_tune_40_1_3_5e-6/vocab.txt\n"
     ]
    }
   ],
   "source": [
    "model = BertForPairWiseClassification.from_pretrained(FINE_TUNED_PATH)\n",
    "tokenizer = BertTokenizer.from_pretrained(FINE_TUNED_PATH)"
   ]
  },
  {
   "cell_type": "code",
   "execution_count": 5,
   "metadata": {},
   "outputs": [],
   "source": [
    "def bert_sim(text1, text2):\n",
    "    tokens1 = ['[CLS]'] + tokenizer.tokenize(text1) + ['[SEP]']\n",
    "    tokens2 = ['[CLS]'] + tokenizer.tokenize(text2) + ['[SEP]']\n",
    "    ids1 = tokenizer.convert_tokens_to_ids(tokens1)\n",
    "    ids2 = tokenizer.convert_tokens_to_ids(tokens2)\n",
    "    segs1 = [0] * len(ids1)\n",
    "    segs2 = [0] * len(ids2)\n",
    "    tokens_tensor1 = torch.tensor([ids1])\n",
    "    segments_tensor1 = torch.tensor([segs1])\n",
    "    tokens_tensor2 = torch.tensor([ids2])\n",
    "    segments_tensor2 = torch.tensor([segs2])\n",
    "    model.eval()\n",
    "    with torch.no_grad():\n",
    "        cos_sim, pos_prob, vec1, vec2 = model(tokens_tensor1, tokens_tensor2, segments_tensor1, segments_tensor2)\n",
    "    return cos_sim[0].item(),pos_prob[0].item(), vec1, vec2"
   ]
  },
  {
   "cell_type": "markdown",
   "metadata": {},
   "source": [
    "# 一般测试"
   ]
  },
  {
   "cell_type": "code",
   "execution_count": 6,
   "metadata": {},
   "outputs": [
    {
     "data": {
      "text/plain": [
       "(0.9461959004402161, 0.9730979204177856)"
      ]
     },
     "execution_count": 6,
     "metadata": {},
     "output_type": "execute_result"
    }
   ],
   "source": [
    "text1 = \"我很高兴\"\n",
    "text2 = \"我很开心\"\n",
    "cos_sim,pos_prob, vec1, vec2 = bert_sim(text1, text2)\n",
    "cos_sim, pos_prob, vec1, vec2 = bert_sim(text1, text2)\n",
    "cos_sim, pos_prob"
   ]
  },
  {
   "cell_type": "code",
   "execution_count": 7,
   "metadata": {},
   "outputs": [
    {
     "data": {
      "text/plain": [
       "(0.9461959004402161, 0.9730979204177856)"
      ]
     },
     "execution_count": 7,
     "metadata": {},
     "output_type": "execute_result"
    }
   ],
   "source": [
    "text1 = \"我很开心\"\n",
    "text2 = \"我很高兴\"\n",
    "cos_sim, pos_prob, vec1, vec2 = bert_sim(text1, text2)\n",
    "cos_sim, pos_prob"
   ]
  },
  {
   "cell_type": "code",
   "execution_count": 8,
   "metadata": {},
   "outputs": [
    {
     "data": {
      "text/plain": [
       "(0.928837776184082, 0.964418888092041)"
      ]
     },
     "execution_count": 8,
     "metadata": {},
     "output_type": "execute_result"
    }
   ],
   "source": [
    "text1 = \"我很高兴\"\n",
    "text2 = \"我特别特别开心\"\n",
    "cos_sim, pos_prob, vec1, vec2 = bert_sim(text1, text2)\n",
    "cos_sim, pos_prob"
   ]
  },
  {
   "cell_type": "code",
   "execution_count": 9,
   "metadata": {},
   "outputs": [
    {
     "data": {
      "text/plain": [
       "(0.882889986038208, 0.941444993019104)"
      ]
     },
     "execution_count": 9,
     "metadata": {},
     "output_type": "execute_result"
    }
   ],
   "source": [
    "text1 = \"我很高兴\"\n",
    "text2 = \"我其实觉得自己很开心\"\n",
    "cos_sim, pos_prob, vec1, vec2 = bert_sim(text1, text2)\n",
    "cos_sim, pos_prob"
   ]
  },
  {
   "cell_type": "code",
   "execution_count": 10,
   "metadata": {},
   "outputs": [
    {
     "data": {
      "text/plain": [
       "(0.9343717098236084, 0.9671858549118042)"
      ]
     },
     "execution_count": 10,
     "metadata": {},
     "output_type": "execute_result"
    }
   ],
   "source": [
    "text1 = \"我特别特别开心\"\n",
    "text2 = \"我其实觉得自己很开心\"\n",
    "cos_sim, pos_prob, vec1, vec2 = bert_sim(text1, text2)\n",
    "cos_sim, pos_prob"
   ]
  },
  {
   "cell_type": "code",
   "execution_count": 11,
   "metadata": {},
   "outputs": [
    {
     "data": {
      "text/plain": [
       "(-0.19332632422447205, 0.4033368229866028)"
      ]
     },
     "execution_count": 11,
     "metadata": {},
     "output_type": "execute_result"
    }
   ],
   "source": [
    "text1 = \"我很高兴\"\n",
    "text2 = \"我不开心\"\n",
    "cos_sim, pos_prob, vec1, vec2 = bert_sim(text1, text2)\n",
    "cos_sim, pos_prob"
   ]
  },
  {
   "cell_type": "code",
   "execution_count": 12,
   "metadata": {},
   "outputs": [
    {
     "data": {
      "text/plain": [
       "(-0.1439635306596756, 0.4280182421207428)"
      ]
     },
     "execution_count": 12,
     "metadata": {},
     "output_type": "execute_result"
    }
   ],
   "source": [
    "text1 = \"我很高兴\"\n",
    "text2 = \"我不高兴\"\n",
    "cos_sim, pos_prob, vec1, vec2 = bert_sim(text1, text2)\n",
    "cos_sim, pos_prob"
   ]
  },
  {
   "cell_type": "code",
   "execution_count": 13,
   "metadata": {},
   "outputs": [
    {
     "data": {
      "text/plain": [
       "(0.9998999834060669, 0.9999499917030334)"
      ]
     },
     "execution_count": 13,
     "metadata": {},
     "output_type": "execute_result"
    }
   ],
   "source": [
    "text1 = \"我很高兴\"\n",
    "text2 = \"我很高兴\"\n",
    "cos_sim, pos_prob, vec1, vec2 = bert_sim(text1, text2)\n",
    "cos_sim, pos_prob"
   ]
  },
  {
   "cell_type": "code",
   "execution_count": 14,
   "metadata": {},
   "outputs": [
    {
     "data": {
      "text/plain": [
       "(0.9520829916000366, 0.9760414958000183)"
      ]
     },
     "execution_count": 14,
     "metadata": {},
     "output_type": "execute_result"
    }
   ],
   "source": [
    "text1 = \"我很伤心\"\n",
    "text2 = \"我很难过\"\n",
    "cos_sim, pos_prob, vec1, vec2 = bert_sim(text1, text2)\n",
    "cos_sim, pos_prob"
   ]
  },
  {
   "cell_type": "code",
   "execution_count": 15,
   "metadata": {},
   "outputs": [
    {
     "data": {
      "text/plain": [
       "(0.8418208956718445, 0.9209104776382446)"
      ]
     },
     "execution_count": 15,
     "metadata": {},
     "output_type": "execute_result"
    }
   ],
   "source": [
    "text1 = \"真好\"\n",
    "text2 = \"不错\"\n",
    "cos_sim, pos_prob, vec1, vec2 = bert_sim(text1, text2)\n",
    "cos_sim, pos_prob"
   ]
  },
  {
   "cell_type": "code",
   "execution_count": 16,
   "metadata": {},
   "outputs": [
    {
     "data": {
      "text/plain": [
       "(0.7031331062316895, 0.8515665531158447)"
      ]
     },
     "execution_count": 16,
     "metadata": {},
     "output_type": "execute_result"
    }
   ],
   "source": [
    "text1 = \"高兴\"\n",
    "text2 = \"开心\"\n",
    "cos_sim, pos_prob, vec1, vec2 = bert_sim(text1, text2)\n",
    "cos_sim, pos_prob"
   ]
  },
  {
   "cell_type": "code",
   "execution_count": 17,
   "metadata": {},
   "outputs": [
    {
     "data": {
      "text/plain": [
       "(0.9998999834060669, 0.9999499917030334)"
      ]
     },
     "execution_count": 17,
     "metadata": {},
     "output_type": "execute_result"
    }
   ],
   "source": [
    "text1 = \"大家好才是真的好\"\n",
    "text2 = \"大家好才是真的好\"\n",
    "cos_sim, pos_prob, vec1, vec2 = bert_sim(text1, text2)\n",
    "cos_sim, pos_prob"
   ]
  },
  {
   "cell_type": "code",
   "execution_count": 18,
   "metadata": {},
   "outputs": [
    {
     "data": {
      "text/plain": [
       "(-0.3624228239059448, 0.3187885880470276)"
      ]
     },
     "execution_count": 18,
     "metadata": {},
     "output_type": "execute_result"
    }
   ],
   "source": [
    "text1 = \"为什么能开出腾讯信用却没有微粒贷朋友的没用腾讯信用却有30000的额度呢\"\n",
    "text2 = \"我钱包里没有你们这个应用\"\n",
    "cos_sim, pos_prob, vec1, vec2 = bert_sim(text1, text2)\n",
    "cos_sim, pos_prob"
   ]
  },
  {
   "cell_type": "code",
   "execution_count": 19,
   "metadata": {},
   "outputs": [
    {
     "data": {
      "text/plain": [
       "(0.401532918214798, 0.7007664442062378)"
      ]
     },
     "execution_count": 19,
     "metadata": {},
     "output_type": "execute_result"
    }
   ],
   "source": [
    "text1 = \"我也不知道\"\n",
    "text2 = \"好吧\"\n",
    "cos_sim, pos_prob, vec1, vec2 = bert_sim(text1, text2)\n",
    "cos_sim, pos_prob"
   ]
  },
  {
   "cell_type": "code",
   "execution_count": 20,
   "metadata": {},
   "outputs": [
    {
     "data": {
      "text/plain": [
       "(0.6687267422676086, 0.8343633413314819)"
      ]
     },
     "execution_count": 20,
     "metadata": {},
     "output_type": "execute_result"
    }
   ],
   "source": [
    "text1 = \"深度学习\"\n",
    "text2 = \"机器学习\"\n",
    "cos_sim, pos_prob, vec1, vec2 = bert_sim(text1, text2)\n",
    "cos_sim, pos_prob"
   ]
  },
  {
   "cell_type": "code",
   "execution_count": 21,
   "metadata": {},
   "outputs": [
    {
     "data": {
      "text/plain": [
       "(0.6687267422676086, 0.8343633413314819)"
      ]
     },
     "execution_count": 21,
     "metadata": {},
     "output_type": "execute_result"
    }
   ],
   "source": [
    "text1 = \"机器学习\"\n",
    "text2 = \"深度学习\"\n",
    "cos_sim, pos_prob, vec1, vec2 = bert_sim(text1, text2)\n",
    "cos_sim, pos_prob"
   ]
  },
  {
   "cell_type": "code",
   "execution_count": 22,
   "metadata": {
    "scrolled": true
   },
   "outputs": [
    {
     "data": {
      "text/plain": [
       "(0.9628378748893738, 0.9814189672470093)"
      ]
     },
     "execution_count": 22,
     "metadata": {},
     "output_type": "execute_result"
    }
   ],
   "source": [
    "text1 = \"人民团体是什么\"\n",
    "text2 = \"人民团体是指\"\n",
    "cos_sim, pos_prob, vec1, vec2 = bert_sim(text1, text2)\n",
    "cos_sim, pos_prob"
   ]
  },
  {
   "cell_type": "markdown",
   "metadata": {},
   "source": [
    "# 百度-车牌，不太一致"
   ]
  },
  {
   "cell_type": "code",
   "execution_count": 23,
   "metadata": {},
   "outputs": [
    {
     "data": {
      "text/plain": [
       "(-0.08089974522590637, 0.459550142288208)"
      ]
     },
     "execution_count": 23,
     "metadata": {},
     "output_type": "execute_result"
    }
   ],
   "source": [
    "text1 = \"车头如何放置车牌\"\n",
    "text2 = \"前牌照怎么装\"\n",
    "cos_sim, pos_prob, vec1, vec2 = bert_sim(text1, text2)\n",
    "cos_sim, pos_prob"
   ]
  },
  {
   "cell_type": "code",
   "execution_count": 24,
   "metadata": {},
   "outputs": [
    {
     "data": {
      "text/plain": [
       "(0.7838859558105469, 0.8919429779052734)"
      ]
     },
     "execution_count": 24,
     "metadata": {},
     "output_type": "execute_result"
    }
   ],
   "source": [
    "text1 = \"车头如何放置车牌\"\n",
    "text2 = \"如何办理北京车牌\"\n",
    "cos_sim, pos_prob, vec1, vec2 = bert_sim(text1, text2)\n",
    "cos_sim, pos_prob"
   ]
  },
  {
   "cell_type": "code",
   "execution_count": 25,
   "metadata": {},
   "outputs": [
    {
     "data": {
      "text/plain": [
       "(-0.12562254071235657, 0.4371887445449829)"
      ]
     },
     "execution_count": 25,
     "metadata": {},
     "output_type": "execute_result"
    }
   ],
   "source": [
    "text1 = \"车头如何放置车牌\"\n",
    "text2 = \"后牌照怎么装\"\n",
    "cos_sim, pos_prob, vec1, vec2 = bert_sim(text1, text2)\n",
    "cos_sim, pos_prob"
   ]
  },
  {
   "cell_type": "markdown",
   "metadata": {},
   "source": [
    "# 百度-信号"
   ]
  },
  {
   "cell_type": "code",
   "execution_count": 26,
   "metadata": {},
   "outputs": [
    {
     "data": {
      "text/plain": [
       "(0.6460959315299988, 0.8230479955673218)"
      ]
     },
     "execution_count": 26,
     "metadata": {},
     "output_type": "execute_result"
    }
   ],
   "source": [
    "text1 = \"信号忽强忽弱\"\n",
    "text2 = \"信号忽高忽低\"\n",
    "cos_sim, pos_prob, vec1, vec2 = bert_sim(text1, text2)\n",
    "cos_sim, pos_prob"
   ]
  },
  {
   "cell_type": "code",
   "execution_count": 27,
   "metadata": {},
   "outputs": [
    {
     "data": {
      "text/plain": [
       "(0.2920767664909363, 0.6460384130477905)"
      ]
     },
     "execution_count": 27,
     "metadata": {},
     "output_type": "execute_result"
    }
   ],
   "source": [
    "text1 = \"信号忽强忽弱\"\n",
    "text2 = \"信号忽左忽右\"\n",
    "cos_sim, pos_prob, vec1, vec2 = bert_sim(text1, text2)\n",
    "cos_sim, pos_prob"
   ]
  },
  {
   "cell_type": "code",
   "execution_count": 28,
   "metadata": {},
   "outputs": [
    {
     "data": {
      "text/plain": [
       "(0.3235416114330292, 0.6617708206176758)"
      ]
     },
     "execution_count": 28,
     "metadata": {},
     "output_type": "execute_result"
    }
   ],
   "source": [
    "text1 = \"信号忽强忽弱\"\n",
    "text2 = \"信号忽然中断\"\n",
    "cos_sim, pos_prob, vec1, vec2 = bert_sim(text1, text2)\n",
    "cos_sim, pos_prob"
   ]
  },
  {
   "cell_type": "markdown",
   "metadata": {},
   "source": [
    "# 百度-机器学习"
   ]
  },
  {
   "cell_type": "code",
   "execution_count": 29,
   "metadata": {},
   "outputs": [
    {
     "data": {
      "text/plain": [
       "(-0.04421834275126457, 0.47789081931114197)"
      ]
     },
     "execution_count": 29,
     "metadata": {},
     "output_type": "execute_result"
    }
   ],
   "source": [
    "text1 = \"如何学好深度学习\"\n",
    "text2 = \"深入学习习近平讲话材料\"\n",
    "cos_sim, pos_prob, vec1, vec2 = bert_sim(text1, text2)\n",
    "cos_sim, pos_prob"
   ]
  },
  {
   "cell_type": "code",
   "execution_count": 30,
   "metadata": {},
   "outputs": [
    {
     "data": {
      "text/plain": [
       "(0.6169852018356323, 0.8084926009178162)"
      ]
     },
     "execution_count": 30,
     "metadata": {},
     "output_type": "execute_result"
    }
   ],
   "source": [
    "text1 = \"如何学好深度学习\"\n",
    "text2 = \"机器学习教程\"\n",
    "cos_sim, pos_prob, vec1, vec2 = bert_sim(text1, text2)\n",
    "cos_sim, pos_prob"
   ]
  },
  {
   "cell_type": "code",
   "execution_count": 31,
   "metadata": {},
   "outputs": [
    {
     "data": {
      "text/plain": [
       "(0.5044037103652954, 0.7522018551826477)"
      ]
     },
     "execution_count": 31,
     "metadata": {},
     "output_type": "execute_result"
    }
   ],
   "source": [
    "text1 = \"如何学好深度学习\"\n",
    "text2 = \"人工智能教程\"\n",
    "cos_sim, pos_prob, vec1, vec2 = bert_sim(text1, text2)\n",
    "cos_sim, pos_prob"
   ]
  },
  {
   "cell_type": "markdown",
   "metadata": {},
   "source": [
    "# 百度-香蕉的翻译，偏小但排序一致"
   ]
  },
  {
   "cell_type": "code",
   "execution_count": 32,
   "metadata": {},
   "outputs": [
    {
     "data": {
      "text/plain": [
       "(0.9225574731826782, 0.9612787365913391)"
      ]
     },
     "execution_count": 32,
     "metadata": {},
     "output_type": "execute_result"
    }
   ],
   "source": [
    "text1 = \"香蕉的翻译\"\n",
    "text2 = \"香蕉用英文怎么说\"\n",
    "cos_sim, pos_prob, vec1, vec2 = bert_sim(text1, text2)\n",
    "cos_sim, pos_prob"
   ]
  },
  {
   "cell_type": "code",
   "execution_count": 33,
   "metadata": {},
   "outputs": [
    {
     "data": {
      "text/plain": [
       "(0.6751666069030762, 0.8375833034515381)"
      ]
     },
     "execution_count": 33,
     "metadata": {},
     "output_type": "execute_result"
    }
   ],
   "source": [
    "text1 = \"香蕉的翻译\"\n",
    "text2 = \"香蕉怎么吃\"\n",
    "cos_sim, pos_prob, vec1, vec2 = bert_sim(text1, text2)\n",
    "cos_sim, pos_prob"
   ]
  },
  {
   "cell_type": "code",
   "execution_count": 34,
   "metadata": {
    "scrolled": true
   },
   "outputs": [
    {
     "data": {
      "text/plain": [
       "(0.6437533497810364, 0.8218766450881958)"
      ]
     },
     "execution_count": 34,
     "metadata": {},
     "output_type": "execute_result"
    }
   ],
   "source": [
    "text1 = \"香蕉的翻译\"\n",
    "text2 = \"桔子用英文怎么说\"\n",
    "cos_sim, pos_prob, vec1, vec2 = bert_sim(text1, text2)\n",
    "cos_sim, pos_prob"
   ]
  },
  {
   "cell_type": "markdown",
   "metadata": {},
   "source": [
    "# 百度-腹泻，排序有差别"
   ]
  },
  {
   "cell_type": "code",
   "execution_count": 35,
   "metadata": {},
   "outputs": [
    {
     "data": {
      "text/plain": [
       "(0.699819803237915, 0.8499099016189575)"
      ]
     },
     "execution_count": 35,
     "metadata": {},
     "output_type": "execute_result"
    }
   ],
   "source": [
    "text1 = \"小儿腹泻偏方\"\n",
    "text2 = \"宝宝拉肚子偏方\"\n",
    "cos_sim, pos_prob, vec1, vec2 = bert_sim(text1, text2)\n",
    "cos_sim, pos_prob"
   ]
  },
  {
   "cell_type": "code",
   "execution_count": 36,
   "metadata": {},
   "outputs": [
    {
     "data": {
      "text/plain": [
       "(0.5160297751426697, 0.7580149173736572)"
      ]
     },
     "execution_count": 36,
     "metadata": {},
     "output_type": "execute_result"
    }
   ],
   "source": [
    "text1 = \"小儿腹泻偏方\"\n",
    "text2 = \"小儿感冒偏方\"\n",
    "cos_sim, pos_prob, vec1, vec2 = bert_sim(text1, text2)\n",
    "cos_sim, pos_prob"
   ]
  },
  {
   "cell_type": "code",
   "execution_count": 37,
   "metadata": {},
   "outputs": [
    {
     "data": {
      "text/plain": [
       "(0.9587470889091492, 0.979373574256897)"
      ]
     },
     "execution_count": 37,
     "metadata": {},
     "output_type": "execute_result"
    }
   ],
   "source": [
    "text1 = \"小儿腹泻偏方\"\n",
    "text2 = \"腹泻偏方\"\n",
    "cos_sim, pos_prob, vec1, vec2 = bert_sim(text1, text2)\n",
    "cos_sim, pos_prob"
   ]
  },
  {
   "cell_type": "markdown",
   "metadata": {},
   "source": [
    "# 百度-LOL，数值偏小，但排序一致"
   ]
  },
  {
   "cell_type": "code",
   "execution_count": 38,
   "metadata": {},
   "outputs": [
    {
     "data": {
      "text/plain": [
       "(0.6479702591896057, 0.8239850997924805)"
      ]
     },
     "execution_count": 38,
     "metadata": {},
     "output_type": "execute_result"
    }
   ],
   "source": [
    "text1 = \"英雄联盟好玩吗，怎么升级\"\n",
    "text2 = \"lol攻略\"\n",
    "cos_sim, pos_prob, vec1, vec2 = bert_sim(text1, text2)\n",
    "cos_sim, pos_prob"
   ]
  },
  {
   "cell_type": "code",
   "execution_count": 39,
   "metadata": {},
   "outputs": [
    {
     "data": {
      "text/plain": [
       "(0.6615750193595886, 0.8307875394821167)"
      ]
     },
     "execution_count": 39,
     "metadata": {},
     "output_type": "execute_result"
    }
   ],
   "source": [
    "text1 = \"英雄联盟好玩吗，怎么升级\"\n",
    "text2 = \"英雄联盟服务器升级\"\n",
    "cos_sim, pos_prob, vec1, vec2 = bert_sim(text1, text2)\n",
    "cos_sim, pos_prob"
   ]
  },
  {
   "cell_type": "code",
   "execution_count": 40,
   "metadata": {
    "scrolled": true
   },
   "outputs": [
    {
     "data": {
      "text/plain": [
       "(0.7770408391952515, 0.8885204195976257)"
      ]
     },
     "execution_count": 40,
     "metadata": {},
     "output_type": "execute_result"
    }
   ],
   "source": [
    "text1 = \"英雄联盟好玩吗，怎么升级\"\n",
    "text2 = \"怎么打好lol\"\n",
    "cos_sim, pos_prob, vec1, vec2 = bert_sim(text1, text2)\n",
    "cos_sim, pos_prob"
   ]
  },
  {
   "cell_type": "markdown",
   "metadata": {},
   "source": [
    "# 百度-红米"
   ]
  },
  {
   "cell_type": "code",
   "execution_count": 41,
   "metadata": {},
   "outputs": [
    {
     "data": {
      "text/plain": [
       "(0.841148853302002, 0.920574426651001)"
      ]
     },
     "execution_count": 41,
     "metadata": {},
     "output_type": "execute_result"
    }
   ],
   "source": [
    "text1 = \"红米更新出错\"\n",
    "text2 = \"红米升级系统出错\"\n",
    "cos_sim, pos_prob, vec1, vec2 = bert_sim(text1, text2)\n",
    "cos_sim, pos_prob"
   ]
  },
  {
   "cell_type": "code",
   "execution_count": 42,
   "metadata": {},
   "outputs": [
    {
     "data": {
      "text/plain": [
       "(0.7717515826225281, 0.8858758211135864)"
      ]
     },
     "execution_count": 42,
     "metadata": {},
     "output_type": "execute_result"
    }
   ],
   "source": [
    "text1 = \"红米更新出错\"\n",
    "text2 = \"红米账户出错\"\n",
    "cos_sim, pos_prob, vec1, vec2 = bert_sim(text1, text2)\n",
    "cos_sim, pos_prob"
   ]
  },
  {
   "cell_type": "code",
   "execution_count": 43,
   "metadata": {},
   "outputs": [
    {
     "data": {
      "text/plain": [
       "(-0.5025741457939148, 0.2487129271030426)"
      ]
     },
     "execution_count": 43,
     "metadata": {},
     "output_type": "execute_result"
    }
   ],
   "source": [
    "text1 = \"红米更新出错\"\n",
    "text2 = \"如何买到小米手机\"\n",
    "cos_sim, pos_prob, vec1, vec2 = bert_sim(text1, text2)\n",
    "cos_sim, pos_prob"
   ]
  },
  {
   "cell_type": "markdown",
   "metadata": {},
   "source": [
    "# 百度-李彦宏"
   ]
  },
  {
   "cell_type": "code",
   "execution_count": 44,
   "metadata": {},
   "outputs": [
    {
     "data": {
      "text/plain": [
       "(0.905514657497406, 0.9527573585510254)"
      ]
     },
     "execution_count": 44,
     "metadata": {},
     "output_type": "execute_result"
    }
   ],
   "source": [
    "text1 = \"李彦宏是百度公司创始人\"\n",
    "text2 = \"百度是李彦宏创办的\"\n",
    "cos_sim, pos_prob, vec1, vec2 = bert_sim(text1, text2)\n",
    "cos_sim, pos_prob"
   ]
  },
  {
   "cell_type": "code",
   "execution_count": 45,
   "metadata": {},
   "outputs": [
    {
     "data": {
      "text/plain": [
       "(0.7203862071037292, 0.860193133354187)"
      ]
     },
     "execution_count": 45,
     "metadata": {},
     "output_type": "execute_result"
    }
   ],
   "source": [
    "text1 = \"李彦宏是百度公司创始人\"\n",
    "text2 = \"马化腾创办了腾讯公司\"\n",
    "cos_sim, pos_prob, vec1, vec2 = bert_sim(text1, text2)\n",
    "cos_sim, pos_prob"
   ]
  },
  {
   "cell_type": "code",
   "execution_count": 46,
   "metadata": {},
   "outputs": [
    {
     "data": {
      "text/plain": [
       "(0.5420638918876648, 0.7710319757461548)"
      ]
     },
     "execution_count": 46,
     "metadata": {},
     "output_type": "execute_result"
    }
   ],
   "source": [
    "text1 = \"李彦宏是百度公司创始人\"\n",
    "text2 = \"姚明是NBA的著名球星\"\n",
    "cos_sim, pos_prob, vec1, vec2 = bert_sim(text1, text2)\n",
    "cos_sim, pos_prob"
   ]
  },
  {
   "cell_type": "markdown",
   "metadata": {},
   "source": [
    "# 百度-中国历史"
   ]
  },
  {
   "cell_type": "code",
   "execution_count": 47,
   "metadata": {},
   "outputs": [
    {
     "data": {
      "text/plain": [
       "(0.4960595667362213, 0.7480297684669495)"
      ]
     },
     "execution_count": 47,
     "metadata": {},
     "output_type": "execute_result"
    }
   ],
   "source": [
    "text1 = \"中国有五千年的历史\"\n",
    "text2 = \"中国是个历史悠久的国家\"\n",
    "cos_sim, pos_prob, vec1, vec2 = bert_sim(text1, text2)\n",
    "cos_sim, pos_prob"
   ]
  },
  {
   "cell_type": "code",
   "execution_count": 48,
   "metadata": {},
   "outputs": [
    {
     "data": {
      "text/plain": [
       "(0.1780521124601364, 0.5890260338783264)"
      ]
     },
     "execution_count": 48,
     "metadata": {},
     "output_type": "execute_result"
    }
   ],
   "source": [
    "text1 = \"中国有五千年的历史\"\n",
    "text2 = \"中国有很多少数民族\"\n",
    "cos_sim, pos_prob, vec1, vec2 = bert_sim(text1, text2)\n",
    "cos_sim, pos_prob"
   ]
  },
  {
   "cell_type": "code",
   "execution_count": 49,
   "metadata": {},
   "outputs": [
    {
     "data": {
      "text/plain": [
       "(-0.05039781332015991, 0.47480109333992004)"
      ]
     },
     "execution_count": 49,
     "metadata": {},
     "output_type": "execute_result"
    }
   ],
   "source": [
    "text1 = \"中国有五千年的历史\"\n",
    "text2 = \"中国有13亿人口\"\n",
    "cos_sim, pos_prob, vec1, vec2 = bert_sim(text1, text2)\n",
    "cos_sim, pos_prob"
   ]
  },
  {
   "cell_type": "markdown",
   "metadata": {},
   "source": [
    "# 百度-北京奥运会，偏小，但数值一致"
   ]
  },
  {
   "cell_type": "code",
   "execution_count": 50,
   "metadata": {},
   "outputs": [
    {
     "data": {
      "text/plain": [
       "(0.5722275376319885, 0.7861137390136719)"
      ]
     },
     "execution_count": 50,
     "metadata": {},
     "output_type": "execute_result"
    }
   ],
   "source": [
    "text1 = \"北京成功申办了2008年奥运会\"\n",
    "text2 = \"2008年奥运会在北京举行\"\n",
    "cos_sim, pos_prob, vec1, vec2 = bert_sim(text1, text2)\n",
    "cos_sim, pos_prob"
   ]
  },
  {
   "cell_type": "code",
   "execution_count": 51,
   "metadata": {},
   "outputs": [
    {
     "data": {
      "text/plain": [
       "(0.20796354115009308, 0.6039817929267883)"
      ]
     },
     "execution_count": 51,
     "metadata": {},
     "output_type": "execute_result"
    }
   ],
   "source": [
    "text1 = \"北京成功申办了2008年奥运会\"\n",
    "text2 = \"伦敦奥运会在2012年举行\"\n",
    "cos_sim, pos_prob, vec1, vec2 = bert_sim(text1, text2)\n",
    "cos_sim, pos_prob"
   ]
  },
  {
   "cell_type": "code",
   "execution_count": 52,
   "metadata": {},
   "outputs": [
    {
     "data": {
      "text/plain": [
       "(-0.02775203064084053, 0.4861239790916443)"
      ]
     },
     "execution_count": 52,
     "metadata": {},
     "output_type": "execute_result"
    }
   ],
   "source": [
    "text1 = \"北京成功申办了2008年奥运会\"\n",
    "text2 = \"东京奥运会即将举办\"\n",
    "cos_sim, pos_prob, vec1, vec2 = bert_sim(text1, text2)\n",
    "cos_sim, pos_prob"
   ]
  },
  {
   "cell_type": "code",
   "execution_count": null,
   "metadata": {},
   "outputs": [],
   "source": []
  }
 ],
 "metadata": {
  "kernelspec": {
   "display_name": "Python 3",
   "language": "python",
   "name": "python3"
  },
  "language_info": {
   "codemirror_mode": {
    "name": "ipython",
    "version": 3
   },
   "file_extension": ".py",
   "mimetype": "text/x-python",
   "name": "python",
   "nbconvert_exporter": "python",
   "pygments_lexer": "ipython3",
   "version": "3.7.3"
  }
 },
 "nbformat": 4,
 "nbformat_minor": 2
}
