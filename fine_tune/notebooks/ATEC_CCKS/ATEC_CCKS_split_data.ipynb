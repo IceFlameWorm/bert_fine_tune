{
 "cells": [
  {
   "cell_type": "code",
   "execution_count": 1,
   "metadata": {},
   "outputs": [],
   "source": [
    "import os\n",
    "import pandas as pd\n",
    "import numpy as np\n",
    "import matplotlib.pyplot as plt\n",
    "from sklearn.model_selection import train_test_split\n",
    "\n",
    "%matplotlib inline"
   ]
  },
  {
   "cell_type": "code",
   "execution_count": 2,
   "metadata": {},
   "outputs": [],
   "source": [
    "DATA_PATH = '../data/'\n",
    "\n",
    "ATEC_PATH = os.path.join(DATA_PATH, 'ATEC')\n",
    "ATEC_TRAIN_CSV = os.path.join(ATEC_PATH, 'atec_nlp_sim_train.csv')\n",
    "ATEC_TRAIN_ADD_CSV = os.path.join(ATEC_PATH, 'atec_nlp_sim_train_add.csv')\n",
    "ATEC_SEP = '\\t'\n",
    "ATEC_COL_NAMES = ['id', 'text_1', 'text_2', 'label']\n",
    "\n",
    "CCKS_PATH = os.path.join(DATA_PATH, 'CCKS_2018_3')\n",
    "CCKS_TRAIN_TEXT = os.path.join(CCKS_PATH, 'task3_train.txt')\n",
    "CCKS_SEP = '\\t'\n",
    "CCKS_COL_NAMES = ['text_1', 'text_2', 'label']\n",
    "\n",
    "ATEC_CCKS_DEV_SIZE = 10000\n",
    "ATEC_CCKS_TEST_SIZE = 10000\n",
    "\n",
    "TRAIN_DEV_TEST_PATH = os.path.join(DATA_PATH, 'train_dev_test')\n",
    "TRAIN_DEV_TEST_ATEC_CCKS_PATH = os.path.join(TRAIN_DEV_TEST_PATH, 'ATEC_CCKS')\n",
    "ATEC_CCKS_TRAIN_CSV = os.path.join(TRAIN_DEV_TEST_ATEC_CCKS_PATH, 'train.csv')\n",
    "ATEC_CCKS_DEV_CSV = os.path.join(TRAIN_DEV_TEST_ATEC_CCKS_PATH, 'dev.csv')\n",
    "ATEC_CCKS_TEST_CSV = os.path.join(TRAIN_DEV_TEST_ATEC_CCKS_PATH, 'test.csv')"
   ]
  },
  {
   "cell_type": "code",
   "execution_count": 3,
   "metadata": {},
   "outputs": [],
   "source": [
    "def read_aetc():\n",
    "    atec_train_df = pd.read_csv(ATEC_TRAIN_CSV, sep = ATEC_SEP, header = None, names = ATEC_COL_NAMES)\n",
    "    atec_train_add_df = pd.read_csv(ATEC_TRAIN_ADD_CSV, sep = ATEC_SEP, header = None, names = ATEC_COL_NAMES)\n",
    "    atec_train_all = pd.concat([atec_train_df, atec_train_add_df], ignore_index=True)\n",
    "    atec_train_all = atec_train_all.drop('id', axis = 1)\n",
    "    return atec_train_all\n",
    "    \n",
    "def read_ccks():\n",
    "    records = []\n",
    "    with open(CCKS_TRAIN_TEXT, 'r', encoding='utf8') as f:\n",
    "        for line in f:\n",
    "            text_1, text_2, label = line.split(CCKS_SEP)\n",
    "            record = [text_1.strip(), text_2.strip(), int(label.strip())]\n",
    "            records.append(record)\n",
    "\n",
    "    ccks_train_df = pd.DataFrame(records, columns=CCKS_COL_NAMES)\n",
    "    return ccks_train_df\n",
    "\n",
    "def read_aetc_ccks():\n",
    "    atec_df = read_aetc()\n",
    "    ccks_df = read_ccks()\n",
    "    atec_ccks_df = pd.concat([atec_df, ccks_df], ignore_index=True)\n",
    "    return atec_ccks_df"
   ]
  },
  {
   "cell_type": "code",
   "execution_count": 4,
   "metadata": {},
   "outputs": [],
   "source": [
    "## 把AETC和CCKS合并到一起\n",
    "atec_ccks_df = read_aetc_ccks()"
   ]
  },
  {
   "cell_type": "code",
   "execution_count": 5,
   "metadata": {},
   "outputs": [
    {
     "data": {
      "text/html": [
       "<div>\n",
       "<style scoped>\n",
       "    .dataframe tbody tr th:only-of-type {\n",
       "        vertical-align: middle;\n",
       "    }\n",
       "\n",
       "    .dataframe tbody tr th {\n",
       "        vertical-align: top;\n",
       "    }\n",
       "\n",
       "    .dataframe thead th {\n",
       "        text-align: right;\n",
       "    }\n",
       "</style>\n",
       "<table border=\"1\" class=\"dataframe\">\n",
       "  <thead>\n",
       "    <tr style=\"text-align: right;\">\n",
       "      <th></th>\n",
       "      <th>text_1</th>\n",
       "      <th>text_2</th>\n",
       "      <th>label</th>\n",
       "    </tr>\n",
       "  </thead>\n",
       "  <tbody>\n",
       "    <tr>\n",
       "      <th>0</th>\n",
       "      <td>﻿怎么更改花呗手机号码</td>\n",
       "      <td>我的花呗是以前的手机号码，怎么更改成现在的支付宝的号码手机号</td>\n",
       "      <td>1</td>\n",
       "    </tr>\n",
       "    <tr>\n",
       "      <th>1</th>\n",
       "      <td>也开不了花呗，就这样了？完事了</td>\n",
       "      <td>真的嘛？就是花呗付款</td>\n",
       "      <td>0</td>\n",
       "    </tr>\n",
       "    <tr>\n",
       "      <th>2</th>\n",
       "      <td>花呗冻结以后还能开通吗</td>\n",
       "      <td>我的条件可以开通花呗借款吗</td>\n",
       "      <td>0</td>\n",
       "    </tr>\n",
       "    <tr>\n",
       "      <th>3</th>\n",
       "      <td>如何得知关闭借呗</td>\n",
       "      <td>想永久关闭借呗</td>\n",
       "      <td>0</td>\n",
       "    </tr>\n",
       "    <tr>\n",
       "      <th>4</th>\n",
       "      <td>花呗扫码付钱</td>\n",
       "      <td>二维码扫描可以用花呗吗</td>\n",
       "      <td>0</td>\n",
       "    </tr>\n",
       "  </tbody>\n",
       "</table>\n",
       "</div>"
      ],
      "text/plain": [
       "            text_1                          text_2  label\n",
       "0      ﻿怎么更改花呗手机号码  我的花呗是以前的手机号码，怎么更改成现在的支付宝的号码手机号      1\n",
       "1  也开不了花呗，就这样了？完事了                      真的嘛？就是花呗付款      0\n",
       "2      花呗冻结以后还能开通吗                   我的条件可以开通花呗借款吗      0\n",
       "3         如何得知关闭借呗                         想永久关闭借呗      0\n",
       "4           花呗扫码付钱                     二维码扫描可以用花呗吗      0"
      ]
     },
     "execution_count": 5,
     "metadata": {},
     "output_type": "execute_result"
    }
   ],
   "source": [
    "atec_ccks_df.head()"
   ]
  },
  {
   "cell_type": "code",
   "execution_count": 6,
   "metadata": {},
   "outputs": [
    {
     "data": {
      "text/plain": [
       "0.33922371429841414"
      ]
     },
     "execution_count": 6,
     "metadata": {},
     "output_type": "execute_result"
    }
   ],
   "source": [
    "## Target rate\n",
    "atec_ccks_df.label.mean()"
   ]
  },
  {
   "cell_type": "code",
   "execution_count": 7,
   "metadata": {},
   "outputs": [
    {
     "data": {
      "text/plain": [
       "(202477, 3)"
      ]
     },
     "execution_count": 7,
     "metadata": {},
     "output_type": "execute_result"
    }
   ],
   "source": [
    "##  样本数\n",
    "atec_ccks_df.shape"
   ]
  },
  {
   "cell_type": "code",
   "execution_count": 8,
   "metadata": {},
   "outputs": [],
   "source": [
    "def train_dev_test_split(x, y, dev_size, test_size):\n",
    "    _x, dev_x, _y, dev_y = train_test_split(x, y, test_size= dev_size, stratify = y)\n",
    "    train_x, test_x, train_y, test_y = train_test_split(_x, _y, test_size=test_size, stratify = _y)\n",
    "    return train_x, dev_x, test_x, train_y, dev_y, test_y"
   ]
  },
  {
   "cell_type": "code",
   "execution_count": 9,
   "metadata": {},
   "outputs": [],
   "source": [
    "## 划分 train， dev， test\n",
    "\n",
    "# atec_ccks_x_df = atec_ccks_df.drop('label', axis = 1)\n",
    "atec_ccks_x_df = atec_ccks_df\n",
    "atec_ccks_y_ser = atec_ccks_df.label\n",
    "\n",
    "(atec_ccks_train_df,\n",
    " atec_ccks_dev_df,\n",
    " atec_ccks_test_df, _, _, _) = train_dev_test_split(atec_ccks_x_df,\n",
    "                                                      atec_ccks_y_ser, \n",
    "                                                      ATEC_CCKS_DEV_SIZE, \n",
    "                                                      ATEC_CCKS_TEST_SIZE)"
   ]
  },
  {
   "cell_type": "code",
   "execution_count": 10,
   "metadata": {},
   "outputs": [],
   "source": [
    "## 检查下target rate\n",
    "def print_target_rate(df, dtype, dataset = 'atec_ccks', label = 'label'):\n",
    "    target_rate = df[label].mean()\n",
    "    print(f\"{dataset} - {dtype}, target rate: {target_rate:.4f}\")"
   ]
  },
  {
   "cell_type": "code",
   "execution_count": 11,
   "metadata": {},
   "outputs": [
    {
     "name": "stdout",
     "output_type": "stream",
     "text": [
      "atec_ccks - train, target rate: 0.3392\n",
      "atec_ccks - dev, target rate: 0.3392\n",
      "atec_ccks - test, target rate: 0.3392\n"
     ]
    }
   ],
   "source": [
    "print_target_rate(atec_ccks_train_df, 'train')\n",
    "print_target_rate(atec_ccks_dev_df, 'dev')\n",
    "print_target_rate(atec_ccks_test_df, 'test')"
   ]
  },
  {
   "cell_type": "code",
   "execution_count": 12,
   "metadata": {},
   "outputs": [],
   "source": [
    "## 保存train, dev, test\n",
    "def save_df(df, path, index = False, sep = '\\t'):\n",
    "    df.to_csv(path, index=index, sep = sep)\n",
    "    \n",
    "save_df()\n",
    "atec_ccks_train_df.to_csv(ATEC_CCKS_TRAIN_CSV, index=False)\n",
    "atec_ccks_dev_df.to_csv(ATEC_CCKS_DEV_CSV, index=False)\n",
    "atec_ccks_test_df.to_csv(ATEC_CCKS_TEST_CSV, index=False)"
   ]
  },
  {
   "cell_type": "code",
   "execution_count": null,
   "metadata": {},
   "outputs": [],
   "source": []
  }
 ],
 "metadata": {
  "kernelspec": {
   "display_name": "Python 3",
   "language": "python",
   "name": "python3"
  },
  "language_info": {
   "codemirror_mode": {
    "name": "ipython",
    "version": 3
   },
   "file_extension": ".py",
   "mimetype": "text/x-python",
   "name": "python",
   "nbconvert_exporter": "python",
   "pygments_lexer": "ipython3",
   "version": "3.6.8"
  }
 },
 "nbformat": 4,
 "nbformat_minor": 2
}
