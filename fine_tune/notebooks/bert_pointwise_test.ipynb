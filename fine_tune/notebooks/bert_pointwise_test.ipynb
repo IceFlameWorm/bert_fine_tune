{
 "cells": [
  {
   "cell_type": "code",
   "execution_count": 1,
   "metadata": {},
   "outputs": [],
   "source": [
    "import sys\n",
    "sys.path.append('../../')\n",
    "\n",
    "# BERT_FINE_TUNE_PATH = '../../../bert_fine_tune/'\n",
    "# sys.path.append(BERT_FINE_TUNE_PATH)"
   ]
  },
  {
   "cell_type": "code",
   "execution_count": 2,
   "metadata": {},
   "outputs": [
    {
     "name": "stderr",
     "output_type": "stream",
     "text": [
      "INFO:pytorch_pretrained_bert.modeling:Better speed can be achieved with apex installed from https://www.github.com/nvidia/apex .\n",
      "INFO:pytorch_pretrained_bert.modeling_fine_tune:Better speed can be achieved with apex installed from https://www.github.com/nvidia/apex .\n"
     ]
    }
   ],
   "source": [
    "# from textpair.preprocess.dummy_preprocessor import DummyPreprocessor\n",
    "# from textpair.analyze.bert_analyzer import BertAnalyzer\n",
    "# from textpair.vectorize.bert_vectorizer import BertVectorizer\n",
    "# from textpair.model.bert_model import BertModel\n",
    "# from textpair.pair_ann import PairAnn\n",
    "# from textpair.semantic.base_semantic import BaseSemantic\n",
    "\n",
    "import logging\n",
    "\n",
    "logging.basicConfig(level=logging.INFO)\n",
    "\n",
    "import torch\n",
    "from pytorch_pretrained_bert.modeling_fine_tune import BertForPointWiseClassification\n",
    "from pytorch_pretrained_bert import BertTokenizer"
   ]
  },
  {
   "cell_type": "code",
   "execution_count": 3,
   "metadata": {},
   "outputs": [],
   "source": [
    "FINE_TUNED_PATH = '/efs/fine_tune/lcqmc/pointwise_old/lcqmc_fine_tune_40_1_1e-5/'"
   ]
  },
  {
   "cell_type": "code",
   "execution_count": 4,
   "metadata": {},
   "outputs": [
    {
     "name": "stderr",
     "output_type": "stream",
     "text": [
      "INFO:pytorch_pretrained_bert.modeling_fine_tune:loading weights file /efs/fine_tune/lcqmc/pointwise_old/lcqmc_fine_tune_40_1_1e-5/pytorch_model.bin\n",
      "INFO:pytorch_pretrained_bert.modeling_fine_tune:loading configuration file /efs/fine_tune/lcqmc/pointwise_old/lcqmc_fine_tune_40_1_1e-5/config.json\n",
      "INFO:pytorch_pretrained_bert.modeling_fine_tune:Model config {\n",
      "  \"attention_probs_dropout_prob\": 0.1,\n",
      "  \"directionality\": \"bidi\",\n",
      "  \"hidden_act\": \"gelu\",\n",
      "  \"hidden_dropout_prob\": 0.1,\n",
      "  \"hidden_size\": 768,\n",
      "  \"initializer_range\": 0.02,\n",
      "  \"intermediate_size\": 3072,\n",
      "  \"layer_norm_eps\": 1e-12,\n",
      "  \"max_position_embeddings\": 512,\n",
      "  \"num_attention_heads\": 12,\n",
      "  \"num_hidden_layers\": 12,\n",
      "  \"pooler_fc_size\": 768,\n",
      "  \"pooler_num_attention_heads\": 12,\n",
      "  \"pooler_num_fc_layers\": 3,\n",
      "  \"pooler_size_per_head\": 128,\n",
      "  \"pooler_type\": \"first_token_transform\",\n",
      "  \"type_vocab_size\": 2,\n",
      "  \"vocab_size\": 21128\n",
      "}\n",
      "\n",
      "INFO:pytorch_pretrained_bert.tokenization:loading vocabulary file /efs/fine_tune/lcqmc/pointwise_old/lcqmc_fine_tune_40_1_1e-5/vocab.txt\n"
     ]
    }
   ],
   "source": [
    "model = BertForPointWiseClassification.from_pretrained(FINE_TUNED_PATH)\n",
    "tokenizer = BertTokenizer.from_pretrained(FINE_TUNED_PATH)"
   ]
  },
  {
   "cell_type": "code",
   "execution_count": 5,
   "metadata": {},
   "outputs": [],
   "source": [
    "def bert_sim(text1, text2):\n",
    "    tokens1 = ['[CLS]'] + tokenizer.tokenize(text1) + ['[SEP]']\n",
    "    tokens2 = ['[CLS]'] + tokenizer.tokenize(text2) + ['[SEP]']\n",
    "    ids1 = tokenizer.convert_tokens_to_ids(tokens1)\n",
    "    ids2 = tokenizer.convert_tokens_to_ids(tokens2)\n",
    "    segs1 = [0] * len(ids1)\n",
    "    segs2 = [0] * len(ids2)\n",
    "    tokens_tensor1 = torch.tensor([ids1])\n",
    "    segments_tensor1 = torch.tensor([segs1])\n",
    "    tokens_tensor2 = torch.tensor([ids2])\n",
    "    segments_tensor2 = torch.tensor([segs2])\n",
    "    model.eval()\n",
    "    with torch.no_grad():\n",
    "        logits, vec1, vec2 = model(tokens_tensor1, tokens_tensor2, segments_tensor1, segments_tensor2)\n",
    "        probs = torch.softmax(logits, dim = -1)\n",
    "    return probs[0, 1].item(), vec1, vec2"
   ]
  },
  {
   "cell_type": "markdown",
   "metadata": {},
   "source": [
    "# 一般测试"
   ]
  },
  {
   "cell_type": "code",
   "execution_count": 6,
   "metadata": {},
   "outputs": [
    {
     "data": {
      "text/plain": [
       "0.961258053779602"
      ]
     },
     "execution_count": 6,
     "metadata": {},
     "output_type": "execute_result"
    }
   ],
   "source": [
    "text1 = \"我很高兴\"\n",
    "text2 = \"我很开心\"\n",
    "pos_prob, vec1, vec2 = bert_sim(text1, text2)\n",
    "pos_prob"
   ]
  },
  {
   "cell_type": "code",
   "execution_count": 7,
   "metadata": {},
   "outputs": [
    {
     "data": {
      "text/plain": [
       "0.961258053779602"
      ]
     },
     "execution_count": 7,
     "metadata": {},
     "output_type": "execute_result"
    }
   ],
   "source": [
    "text1 = \"我很开心\"\n",
    "text2 = \"我很高兴\"\n",
    "pos_prob, vec1, vec2 = bert_sim(text1, text2)\n",
    "pos_prob"
   ]
  },
  {
   "cell_type": "code",
   "execution_count": 8,
   "metadata": {},
   "outputs": [
    {
     "data": {
      "text/plain": [
       "0.8213762640953064"
      ]
     },
     "execution_count": 8,
     "metadata": {},
     "output_type": "execute_result"
    }
   ],
   "source": [
    "text1 = \"我很高兴\"\n",
    "text2 = \"我特别特别开心\"\n",
    "pos_prob, vec1, vec2 = bert_sim(text1, text2)\n",
    "pos_prob"
   ]
  },
  {
   "cell_type": "code",
   "execution_count": 9,
   "metadata": {},
   "outputs": [
    {
     "data": {
      "text/plain": [
       "0.7699229717254639"
      ]
     },
     "execution_count": 9,
     "metadata": {},
     "output_type": "execute_result"
    }
   ],
   "source": [
    "text1 = \"我很高兴\"\n",
    "text2 = \"我其实觉得自己很开心\"\n",
    "pos_prob, vec1, vec2 = bert_sim(text1, text2)\n",
    "pos_prob"
   ]
  },
  {
   "cell_type": "code",
   "execution_count": 10,
   "metadata": {},
   "outputs": [
    {
     "data": {
      "text/plain": [
       "0.9371229410171509"
      ]
     },
     "execution_count": 10,
     "metadata": {},
     "output_type": "execute_result"
    }
   ],
   "source": [
    "text1 = \"我特别特别开心\"\n",
    "text2 = \"我其实觉得自己很开心\"\n",
    "pos_prob, vec1, vec2 = bert_sim(text1, text2)\n",
    "pos_prob"
   ]
  },
  {
   "cell_type": "code",
   "execution_count": 11,
   "metadata": {},
   "outputs": [
    {
     "data": {
      "text/plain": [
       "0.0798477828502655"
      ]
     },
     "execution_count": 11,
     "metadata": {},
     "output_type": "execute_result"
    }
   ],
   "source": [
    "text1 = \"我很高兴\"\n",
    "text2 = \"我不开心\"\n",
    "pos_prob, vec1, vec2 = bert_sim(text1, text2)\n",
    "pos_prob"
   ]
  },
  {
   "cell_type": "code",
   "execution_count": 12,
   "metadata": {},
   "outputs": [
    {
     "data": {
      "text/plain": [
       "0.06977882981300354"
      ]
     },
     "execution_count": 12,
     "metadata": {},
     "output_type": "execute_result"
    }
   ],
   "source": [
    "text1 = \"我很高兴\"\n",
    "text2 = \"我不高兴\"\n",
    "pos_prob, vec1, vec2 = bert_sim(text1, text2)\n",
    "pos_prob"
   ]
  },
  {
   "cell_type": "code",
   "execution_count": 13,
   "metadata": {},
   "outputs": [
    {
     "data": {
      "text/plain": [
       "0.9942808151245117"
      ]
     },
     "execution_count": 13,
     "metadata": {},
     "output_type": "execute_result"
    }
   ],
   "source": [
    "text1 = \"我很高兴\"\n",
    "text2 = \"我很高兴\"\n",
    "pos_prob, vec1, vec2 = bert_sim(text1, text2)\n",
    "pos_prob"
   ]
  },
  {
   "cell_type": "code",
   "execution_count": 14,
   "metadata": {},
   "outputs": [
    {
     "data": {
      "text/plain": [
       "0.9801499843597412"
      ]
     },
     "execution_count": 14,
     "metadata": {},
     "output_type": "execute_result"
    }
   ],
   "source": [
    "text1 = \"我很伤心\"\n",
    "text2 = \"我很难过\"\n",
    "pos_prob, vec1, vec2 = bert_sim(text1, text2)\n",
    "pos_prob"
   ]
  },
  {
   "cell_type": "code",
   "execution_count": 15,
   "metadata": {},
   "outputs": [
    {
     "data": {
      "text/plain": [
       "0.9436234831809998"
      ]
     },
     "execution_count": 15,
     "metadata": {},
     "output_type": "execute_result"
    }
   ],
   "source": [
    "text1 = \"真好\"\n",
    "text2 = \"不错\"\n",
    "pos_prob, vec1, vec2 = bert_sim(text1, text2)\n",
    "pos_prob"
   ]
  },
  {
   "cell_type": "code",
   "execution_count": 16,
   "metadata": {},
   "outputs": [
    {
     "data": {
      "text/plain": [
       "0.8590299487113953"
      ]
     },
     "execution_count": 16,
     "metadata": {},
     "output_type": "execute_result"
    }
   ],
   "source": [
    "text1 = \"高兴\"\n",
    "text2 = \"开心\"\n",
    "pos_prob, vec1, vec2 = bert_sim(text1, text2)\n",
    "pos_prob"
   ]
  },
  {
   "cell_type": "code",
   "execution_count": 17,
   "metadata": {},
   "outputs": [
    {
     "data": {
      "text/plain": [
       "0.9949809908866882"
      ]
     },
     "execution_count": 17,
     "metadata": {},
     "output_type": "execute_result"
    }
   ],
   "source": [
    "text1 = \"大家好才是真的好\"\n",
    "text2 = \"大家好才是真的好\"\n",
    "pos_prob, vec1, vec2 = bert_sim(text1, text2)\n",
    "pos_prob"
   ]
  },
  {
   "cell_type": "code",
   "execution_count": 18,
   "metadata": {},
   "outputs": [
    {
     "data": {
      "text/plain": [
       "0.0014409964205697179"
      ]
     },
     "execution_count": 18,
     "metadata": {},
     "output_type": "execute_result"
    }
   ],
   "source": [
    "text1 = \"为什么能开出腾讯信用却没有微粒贷朋友的没用腾讯信用却有30000的额度呢\"\n",
    "text2 = \"我钱包里没有你们这个应用\"\n",
    "pos_prob, vec1, vec2 = bert_sim(text1, text2)\n",
    "pos_prob"
   ]
  },
  {
   "cell_type": "code",
   "execution_count": 19,
   "metadata": {},
   "outputs": [
    {
     "data": {
      "text/plain": [
       "0.13305222988128662"
      ]
     },
     "execution_count": 19,
     "metadata": {},
     "output_type": "execute_result"
    }
   ],
   "source": [
    "text1 = \"我也不知道\"\n",
    "text2 = \"好吧\"\n",
    "pos_prob, vec1, vec2 = bert_sim(text1, text2)\n",
    "pos_prob"
   ]
  },
  {
   "cell_type": "code",
   "execution_count": 20,
   "metadata": {},
   "outputs": [
    {
     "data": {
      "text/plain": [
       "0.7389079332351685"
      ]
     },
     "execution_count": 20,
     "metadata": {},
     "output_type": "execute_result"
    }
   ],
   "source": [
    "text1 = \"深度学习\"\n",
    "text2 = \"机器学习\"\n",
    "pos_prob, vec1, vec2 = bert_sim(text1, text2)\n",
    "pos_prob"
   ]
  },
  {
   "cell_type": "code",
   "execution_count": 21,
   "metadata": {},
   "outputs": [
    {
     "data": {
      "text/plain": [
       "0.7389079332351685"
      ]
     },
     "execution_count": 21,
     "metadata": {},
     "output_type": "execute_result"
    }
   ],
   "source": [
    "text1 = \"机器学习\"\n",
    "text2 = \"深度学习\"\n",
    "pos_prob, vec1, vec2 = bert_sim(text1, text2)\n",
    "pos_prob"
   ]
  },
  {
   "cell_type": "code",
   "execution_count": 22,
   "metadata": {
    "scrolled": true
   },
   "outputs": [
    {
     "data": {
      "text/plain": [
       "0.980027973651886"
      ]
     },
     "execution_count": 22,
     "metadata": {},
     "output_type": "execute_result"
    }
   ],
   "source": [
    "text1 = \"人民团体是什么\"\n",
    "text2 = \"人民团体是指\"\n",
    "pos_prob, vec1, vec2 = bert_sim(text1, text2)\n",
    "pos_prob"
   ]
  },
  {
   "cell_type": "markdown",
   "metadata": {},
   "source": [
    "# 百度-车牌，不太一致"
   ]
  },
  {
   "cell_type": "code",
   "execution_count": 23,
   "metadata": {},
   "outputs": [
    {
     "data": {
      "text/plain": [
       "0.7907896637916565"
      ]
     },
     "execution_count": 23,
     "metadata": {},
     "output_type": "execute_result"
    }
   ],
   "source": [
    "text1 = \"车头如何放置车牌\"\n",
    "text2 = \"前牌照怎么装\"\n",
    "pos_prob, vec1, vec2 = bert_sim(text1, text2)\n",
    "pos_prob"
   ]
  },
  {
   "cell_type": "code",
   "execution_count": 24,
   "metadata": {},
   "outputs": [
    {
     "data": {
      "text/plain": [
       "0.800718367099762"
      ]
     },
     "execution_count": 24,
     "metadata": {},
     "output_type": "execute_result"
    }
   ],
   "source": [
    "text1 = \"车头如何放置车牌\"\n",
    "text2 = \"如何办理北京车牌\"\n",
    "pos_prob, vec1, vec2 = bert_sim(text1, text2)\n",
    "pos_prob"
   ]
  },
  {
   "cell_type": "code",
   "execution_count": 25,
   "metadata": {},
   "outputs": [
    {
     "data": {
      "text/plain": [
       "0.531283974647522"
      ]
     },
     "execution_count": 25,
     "metadata": {},
     "output_type": "execute_result"
    }
   ],
   "source": [
    "text1 = \"车头如何放置车牌\"\n",
    "text2 = \"后牌照怎么装\"\n",
    "pos_prob, vec1, vec2 = bert_sim(text1, text2)\n",
    "pos_prob"
   ]
  },
  {
   "cell_type": "markdown",
   "metadata": {},
   "source": [
    "# 百度-信号"
   ]
  },
  {
   "cell_type": "code",
   "execution_count": 26,
   "metadata": {},
   "outputs": [
    {
     "data": {
      "text/plain": [
       "0.6957070231437683"
      ]
     },
     "execution_count": 26,
     "metadata": {},
     "output_type": "execute_result"
    }
   ],
   "source": [
    "text1 = \"信号忽强忽弱\"\n",
    "text2 = \"信号忽高忽低\"\n",
    "pos_prob, vec1, vec2 = bert_sim(text1, text2)\n",
    "pos_prob"
   ]
  },
  {
   "cell_type": "code",
   "execution_count": 27,
   "metadata": {},
   "outputs": [
    {
     "data": {
      "text/plain": [
       "0.15018492937088013"
      ]
     },
     "execution_count": 27,
     "metadata": {},
     "output_type": "execute_result"
    }
   ],
   "source": [
    "text1 = \"信号忽强忽弱\"\n",
    "text2 = \"信号忽左忽右\"\n",
    "pos_prob, vec1, vec2 = bert_sim(text1, text2)\n",
    "pos_prob"
   ]
  },
  {
   "cell_type": "code",
   "execution_count": 28,
   "metadata": {},
   "outputs": [
    {
     "data": {
      "text/plain": [
       "0.4576272964477539"
      ]
     },
     "execution_count": 28,
     "metadata": {},
     "output_type": "execute_result"
    }
   ],
   "source": [
    "text1 = \"信号忽强忽弱\"\n",
    "text2 = \"信号忽然中断\"\n",
    "pos_prob, vec1, vec2 = bert_sim(text1, text2)\n",
    "pos_prob"
   ]
  },
  {
   "cell_type": "markdown",
   "metadata": {},
   "source": [
    "# 百度-机器学习"
   ]
  },
  {
   "cell_type": "code",
   "execution_count": 29,
   "metadata": {},
   "outputs": [
    {
     "data": {
      "text/plain": [
       "0.05825630575418472"
      ]
     },
     "execution_count": 29,
     "metadata": {},
     "output_type": "execute_result"
    }
   ],
   "source": [
    "text1 = \"如何学好深度学习\"\n",
    "text2 = \"深入学习习近平讲话材料\"\n",
    "pos_prob, vec1, vec2 = bert_sim(text1, text2)\n",
    "pos_prob"
   ]
  },
  {
   "cell_type": "code",
   "execution_count": 30,
   "metadata": {},
   "outputs": [
    {
     "data": {
      "text/plain": [
       "0.6349290013313293"
      ]
     },
     "execution_count": 30,
     "metadata": {},
     "output_type": "execute_result"
    }
   ],
   "source": [
    "text1 = \"如何学好深度学习\"\n",
    "text2 = \"机器学习教程\"\n",
    "pos_prob, vec1, vec2 = bert_sim(text1, text2)\n",
    "pos_prob"
   ]
  },
  {
   "cell_type": "code",
   "execution_count": 31,
   "metadata": {},
   "outputs": [
    {
     "data": {
      "text/plain": [
       "0.4203011095523834"
      ]
     },
     "execution_count": 31,
     "metadata": {},
     "output_type": "execute_result"
    }
   ],
   "source": [
    "text1 = \"如何学好深度学习\"\n",
    "text2 = \"人工智能教程\"\n",
    "pos_prob, vec1, vec2 = bert_sim(text1, text2)\n",
    "pos_prob"
   ]
  },
  {
   "cell_type": "markdown",
   "metadata": {},
   "source": [
    "# 百度-香蕉的翻译，偏小但排序一致"
   ]
  },
  {
   "cell_type": "code",
   "execution_count": 32,
   "metadata": {},
   "outputs": [
    {
     "data": {
      "text/plain": [
       "0.7851580381393433"
      ]
     },
     "execution_count": 32,
     "metadata": {},
     "output_type": "execute_result"
    }
   ],
   "source": [
    "text1 = \"香蕉的翻译\"\n",
    "text2 = \"香蕉用英文怎么说\"\n",
    "pos_prob, vec1, vec2 = bert_sim(text1, text2)\n",
    "pos_prob"
   ]
  },
  {
   "cell_type": "code",
   "execution_count": 33,
   "metadata": {},
   "outputs": [
    {
     "data": {
      "text/plain": [
       "0.01105554960668087"
      ]
     },
     "execution_count": 33,
     "metadata": {},
     "output_type": "execute_result"
    }
   ],
   "source": [
    "text1 = \"香蕉的翻译\"\n",
    "text2 = \"香蕉怎么吃\"\n",
    "pos_prob, vec1, vec2 = bert_sim(text1, text2)\n",
    "pos_prob"
   ]
  },
  {
   "cell_type": "code",
   "execution_count": 34,
   "metadata": {
    "scrolled": true
   },
   "outputs": [
    {
     "data": {
      "text/plain": [
       "0.4990476965904236"
      ]
     },
     "execution_count": 34,
     "metadata": {},
     "output_type": "execute_result"
    }
   ],
   "source": [
    "text1 = \"香蕉的翻译\"\n",
    "text2 = \"桔子用英文怎么说\"\n",
    "pos_prob, vec1, vec2 = bert_sim(text1, text2)\n",
    "pos_prob"
   ]
  },
  {
   "cell_type": "markdown",
   "metadata": {},
   "source": [
    "# 百度-腹泻，排序有差别"
   ]
  },
  {
   "cell_type": "code",
   "execution_count": 35,
   "metadata": {},
   "outputs": [
    {
     "data": {
      "text/plain": [
       "0.903954267501831"
      ]
     },
     "execution_count": 35,
     "metadata": {},
     "output_type": "execute_result"
    }
   ],
   "source": [
    "text1 = \"小儿腹泻偏方\"\n",
    "text2 = \"宝宝拉肚子偏方\"\n",
    "pos_prob, vec1, vec2 = bert_sim(text1, text2)\n",
    "pos_prob"
   ]
  },
  {
   "cell_type": "code",
   "execution_count": 36,
   "metadata": {},
   "outputs": [
    {
     "data": {
      "text/plain": [
       "0.9099643230438232"
      ]
     },
     "execution_count": 36,
     "metadata": {},
     "output_type": "execute_result"
    }
   ],
   "source": [
    "text1 = \"小儿腹泻偏方\"\n",
    "text2 = \"小儿感冒偏方\"\n",
    "pos_prob, vec1, vec2 = bert_sim(text1, text2)\n",
    "pos_prob"
   ]
  },
  {
   "cell_type": "code",
   "execution_count": 37,
   "metadata": {},
   "outputs": [
    {
     "data": {
      "text/plain": [
       "0.9675581455230713"
      ]
     },
     "execution_count": 37,
     "metadata": {},
     "output_type": "execute_result"
    }
   ],
   "source": [
    "text1 = \"小儿腹泻偏方\"\n",
    "text2 = \"腹泻偏方\"\n",
    "pos_prob, vec1, vec2 = bert_sim(text1, text2)\n",
    "pos_prob"
   ]
  },
  {
   "cell_type": "markdown",
   "metadata": {},
   "source": [
    "# 百度-LOL，数值偏小，但排序一致"
   ]
  },
  {
   "cell_type": "code",
   "execution_count": 38,
   "metadata": {},
   "outputs": [
    {
     "data": {
      "text/plain": [
       "0.18875348567962646"
      ]
     },
     "execution_count": 38,
     "metadata": {},
     "output_type": "execute_result"
    }
   ],
   "source": [
    "text1 = \"英雄联盟好玩吗，怎么升级\"\n",
    "text2 = \"lol攻略\"\n",
    "pos_prob, vec1, vec2 = bert_sim(text1, text2)\n",
    "pos_prob"
   ]
  },
  {
   "cell_type": "code",
   "execution_count": 39,
   "metadata": {},
   "outputs": [
    {
     "data": {
      "text/plain": [
       "0.6169710159301758"
      ]
     },
     "execution_count": 39,
     "metadata": {},
     "output_type": "execute_result"
    }
   ],
   "source": [
    "text1 = \"英雄联盟好玩吗，怎么升级\"\n",
    "text2 = \"英雄联盟服务器升级\"\n",
    "pos_prob, vec1, vec2 = bert_sim(text1, text2)\n",
    "pos_prob"
   ]
  },
  {
   "cell_type": "code",
   "execution_count": 40,
   "metadata": {
    "scrolled": true
   },
   "outputs": [
    {
     "data": {
      "text/plain": [
       "0.30981332063674927"
      ]
     },
     "execution_count": 40,
     "metadata": {},
     "output_type": "execute_result"
    }
   ],
   "source": [
    "text1 = \"英雄联盟好玩吗，怎么升级\"\n",
    "text2 = \"怎么打好lol\"\n",
    "pos_prob, vec1, vec2 = bert_sim(text1, text2)\n",
    "pos_prob"
   ]
  },
  {
   "cell_type": "markdown",
   "metadata": {},
   "source": [
    "# 百度-红米"
   ]
  },
  {
   "cell_type": "code",
   "execution_count": 41,
   "metadata": {},
   "outputs": [
    {
     "data": {
      "text/plain": [
       "0.8867897391319275"
      ]
     },
     "execution_count": 41,
     "metadata": {},
     "output_type": "execute_result"
    }
   ],
   "source": [
    "text1 = \"红米更新出错\"\n",
    "text2 = \"红米升级系统出错\"\n",
    "pos_prob, vec1, vec2 = bert_sim(text1, text2)\n",
    "pos_prob"
   ]
  },
  {
   "cell_type": "code",
   "execution_count": 42,
   "metadata": {},
   "outputs": [
    {
     "data": {
      "text/plain": [
       "0.8085059523582458"
      ]
     },
     "execution_count": 42,
     "metadata": {},
     "output_type": "execute_result"
    }
   ],
   "source": [
    "text1 = \"红米更新出错\"\n",
    "text2 = \"红米账户出错\"\n",
    "pos_prob, vec1, vec2 = bert_sim(text1, text2)\n",
    "pos_prob"
   ]
  },
  {
   "cell_type": "code",
   "execution_count": 43,
   "metadata": {},
   "outputs": [
    {
     "data": {
      "text/plain": [
       "0.004510632250458002"
      ]
     },
     "execution_count": 43,
     "metadata": {},
     "output_type": "execute_result"
    }
   ],
   "source": [
    "text1 = \"红米更新出错\"\n",
    "text2 = \"如何买到小米手机\"\n",
    "pos_prob, vec1, vec2 = bert_sim(text1, text2)\n",
    "pos_prob"
   ]
  },
  {
   "cell_type": "markdown",
   "metadata": {},
   "source": [
    "# 百度-李彦宏"
   ]
  },
  {
   "cell_type": "code",
   "execution_count": 44,
   "metadata": {},
   "outputs": [
    {
     "data": {
      "text/plain": [
       "0.9763168096542358"
      ]
     },
     "execution_count": 44,
     "metadata": {},
     "output_type": "execute_result"
    }
   ],
   "source": [
    "text1 = \"李彦宏是百度公司创始人\"\n",
    "text2 = \"百度是李彦宏创办的\"\n",
    "pos_prob, vec1, vec2 = bert_sim(text1, text2)\n",
    "pos_prob"
   ]
  },
  {
   "cell_type": "code",
   "execution_count": 45,
   "metadata": {},
   "outputs": [
    {
     "data": {
      "text/plain": [
       "0.7467296123504639"
      ]
     },
     "execution_count": 45,
     "metadata": {},
     "output_type": "execute_result"
    }
   ],
   "source": [
    "text1 = \"李彦宏是百度公司创始人\"\n",
    "text2 = \"马化腾创办了腾讯公司\"\n",
    "pos_prob, vec1, vec2 = bert_sim(text1, text2)\n",
    "pos_prob"
   ]
  },
  {
   "cell_type": "code",
   "execution_count": 46,
   "metadata": {},
   "outputs": [
    {
     "data": {
      "text/plain": [
       "0.20833785831928253"
      ]
     },
     "execution_count": 46,
     "metadata": {},
     "output_type": "execute_result"
    }
   ],
   "source": [
    "text1 = \"李彦宏是百度公司创始人\"\n",
    "text2 = \"姚明是NBA的著名球星\"\n",
    "pos_prob, vec1, vec2 = bert_sim(text1, text2)\n",
    "pos_prob"
   ]
  },
  {
   "cell_type": "markdown",
   "metadata": {},
   "source": [
    "# 百度-中国历史"
   ]
  },
  {
   "cell_type": "code",
   "execution_count": 47,
   "metadata": {},
   "outputs": [
    {
     "data": {
      "text/plain": [
       "0.9515589475631714"
      ]
     },
     "execution_count": 47,
     "metadata": {},
     "output_type": "execute_result"
    }
   ],
   "source": [
    "text1 = \"中国有五千年的历史\"\n",
    "text2 = \"中国是个历史悠久的国家\"\n",
    "pos_prob, vec1, vec2 = bert_sim(text1, text2)\n",
    "pos_prob"
   ]
  },
  {
   "cell_type": "code",
   "execution_count": 48,
   "metadata": {},
   "outputs": [
    {
     "data": {
      "text/plain": [
       "0.3454322814941406"
      ]
     },
     "execution_count": 48,
     "metadata": {},
     "output_type": "execute_result"
    }
   ],
   "source": [
    "text1 = \"中国有五千年的历史\"\n",
    "text2 = \"中国有很多少数民族\"\n",
    "pos_prob, vec1, vec2 = bert_sim(text1, text2)\n",
    "pos_prob"
   ]
  },
  {
   "cell_type": "code",
   "execution_count": 49,
   "metadata": {},
   "outputs": [
    {
     "data": {
      "text/plain": [
       "0.703502893447876"
      ]
     },
     "execution_count": 49,
     "metadata": {},
     "output_type": "execute_result"
    }
   ],
   "source": [
    "text1 = \"中国有五千年的历史\"\n",
    "text2 = \"中国有13亿人口\"\n",
    "pos_prob, vec1, vec2 = bert_sim(text1, text2)\n",
    "pos_prob"
   ]
  },
  {
   "cell_type": "markdown",
   "metadata": {},
   "source": [
    "# 百度-北京奥运会，偏小，但数值一致"
   ]
  },
  {
   "cell_type": "code",
   "execution_count": 50,
   "metadata": {},
   "outputs": [
    {
     "data": {
      "text/plain": [
       "0.6741499900817871"
      ]
     },
     "execution_count": 50,
     "metadata": {},
     "output_type": "execute_result"
    }
   ],
   "source": [
    "text1 = \"北京成功申办了2008年奥运会\"\n",
    "text2 = \"2008年奥运会在北京举行\"\n",
    "pos_prob, vec1, vec2 = bert_sim(text1, text2)\n",
    "pos_prob"
   ]
  },
  {
   "cell_type": "code",
   "execution_count": 51,
   "metadata": {},
   "outputs": [
    {
     "data": {
      "text/plain": [
       "0.27273795008659363"
      ]
     },
     "execution_count": 51,
     "metadata": {},
     "output_type": "execute_result"
    }
   ],
   "source": [
    "text1 = \"北京成功申办了2008年奥运会\"\n",
    "text2 = \"伦敦奥运会在2012年举行\"\n",
    "pos_prob, vec1, vec2 = bert_sim(text1, text2)\n",
    "pos_prob"
   ]
  },
  {
   "cell_type": "code",
   "execution_count": 52,
   "metadata": {},
   "outputs": [
    {
     "data": {
      "text/plain": [
       "0.31581932306289673"
      ]
     },
     "execution_count": 52,
     "metadata": {},
     "output_type": "execute_result"
    }
   ],
   "source": [
    "text1 = \"北京成功申办了2008年奥运会\"\n",
    "text2 = \"东京奥运会即将举办\"\n",
    "pos_prob, vec1, vec2 = bert_sim(text1, text2)\n",
    "pos_prob"
   ]
  },
  {
   "cell_type": "code",
   "execution_count": null,
   "metadata": {},
   "outputs": [],
   "source": []
  }
 ],
 "metadata": {
  "kernelspec": {
   "display_name": "Python 3",
   "language": "python",
   "name": "python3"
  },
  "language_info": {
   "codemirror_mode": {
    "name": "ipython",
    "version": 3
   },
   "file_extension": ".py",
   "mimetype": "text/x-python",
   "name": "python",
   "nbconvert_exporter": "python",
   "pygments_lexer": "ipython3",
   "version": "3.7.3"
  }
 },
 "nbformat": 4,
 "nbformat_minor": 2
}
