{
 "cells": [
  {
   "cell_type": "code",
   "execution_count": 1,
   "metadata": {},
   "outputs": [],
   "source": [
    "import torch\n",
    "import torch.nn as nn\n",
    "\n",
    "from tqdm import tqdm"
   ]
  },
  {
   "cell_type": "code",
   "execution_count": 2,
   "metadata": {},
   "outputs": [],
   "source": [
    "tensor1 = torch.randn(1, 128)\n",
    "tensor2 = torch.randn(1, 128)\n",
    "classifier = nn.Linear(128 * 3, 2, bias=True)"
   ]
  },
  {
   "cell_type": "code",
   "execution_count": 3,
   "metadata": {},
   "outputs": [],
   "source": [
    "def matching(tensor1, tensor2, classifier):\n",
    "    classifier.eval()\n",
    "    with torch.no_grad():\n",
    "        merge1 = torch.abs(tensor1 - tensor2)\n",
    "        merge2 = tensor1 + tensor2\n",
    "        merge3 = tensor1 * tensor2\n",
    "        merge = torch.cat([merge1, merge2, merge3], dim = 1)\n",
    "        logits = classifier(merge)\n",
    "        probs = torch.softmax(logits, dim = 1)\n",
    "    return probs"
   ]
  },
  {
   "cell_type": "code",
   "execution_count": 4,
   "metadata": {},
   "outputs": [
    {
     "name": "stderr",
     "output_type": "stream",
     "text": [
      "100%|██████████| 10000/10000 [00:00<00:00, 18167.42it/s]\n"
     ]
    }
   ],
   "source": [
    "results = []\n",
    "for i in tqdm(range(10000), total=10000):\n",
    "    res = matching(tensor1, tensor2, classifier)\n",
    "    results.append(res)"
   ]
  },
  {
   "cell_type": "code",
   "execution_count": null,
   "metadata": {},
   "outputs": [],
   "source": []
  }
 ],
 "metadata": {
  "kernelspec": {
   "display_name": "Python 3",
   "language": "python",
   "name": "python3"
  },
  "language_info": {
   "codemirror_mode": {
    "name": "ipython",
    "version": 3
   },
   "file_extension": ".py",
   "mimetype": "text/x-python",
   "name": "python",
   "nbconvert_exporter": "python",
   "pygments_lexer": "ipython3",
   "version": "3.7.3"
  }
 },
 "nbformat": 4,
 "nbformat_minor": 2
}
