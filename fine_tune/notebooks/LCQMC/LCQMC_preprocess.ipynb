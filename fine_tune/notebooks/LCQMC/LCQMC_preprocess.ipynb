{
 "cells": [
  {
   "cell_type": "code",
   "execution_count": 1,
   "metadata": {},
   "outputs": [],
   "source": [
    "TEXTPAIR_PATH = '../../../../TextPair/'\n",
    "import sys\n",
    "sys.path.append(TEXTPAIR_PATH)"
   ]
  },
  {
   "cell_type": "code",
   "execution_count": 2,
   "metadata": {},
   "outputs": [],
   "source": [
    "import os\n",
    "import pandas as pd\n",
    "import numpy as np\n",
    "import matplotlib.pyplot as plt\n",
    "from sklearn.model_selection import train_test_split\n",
    "\n",
    "from textpair.single.common import TextNormalizer\n",
    "\n",
    "%matplotlib inline"
   ]
  },
  {
   "cell_type": "code",
   "execution_count": 3,
   "metadata": {},
   "outputs": [],
   "source": [
    "NLP_DATASETS_PATH =  '../../../../NLP_Datasets/'\n",
    "LCQMC_PATH = os.path.join(NLP_DATASETS_PATH, 'LCQMC')\n",
    "\n",
    "\n",
    "TRAIN_CSV = os.path.join(LCQMC_PATH, 'train.txt')\n",
    "DEV_CSV = os.path.join(LCQMC_PATH, 'dev.txt')\n",
    "TEST_CSV = os.path.join(LCQMC_PATH, 'test.txt')\n",
    "\n",
    "DATA_PATH = '../../data/'\n",
    "TRAIN_DEV_TEST_PATH = os.path.join(DATA_PATH, 'train_dev_test')\n",
    "TRAIN_DEV_TEST_LCQMC_PATH = os.path.join(TRAIN_DEV_TEST_PATH, 'LCQMC')\n",
    "\n",
    "PROCESSED_PATH = os.path.join(TRAIN_DEV_TEST_LCQMC_PATH, 'processed')\n",
    "if not os.path.exists(PROCESSED_PATH):\n",
    "    os.makedirs(PROCESSED_PATH)\n",
    "\n",
    "PROCESSED_TRAIN_CSV = os.path.join(PROCESSED_PATH, 'train.csv')\n",
    "PROCESSED_DEV_CSV = os.path.join(PROCESSED_PATH, 'dev.csv')\n",
    "PROCESSED_TEST_CSV = os.path.join(PROCESSED_PATH, 'test.csv')\n",
    "\n",
    "PROCESSED_TRAIN_SAMPLES_CSV = os.path.join(PROCESSED_PATH, 'train_samples.csv')\n",
    "\n",
    "COLUMNS = ['text_1', 'text_2', 'label']\n",
    "SEP = '\\t'"
   ]
  },
  {
   "cell_type": "code",
   "execution_count": 4,
   "metadata": {},
   "outputs": [],
   "source": [
    "train_df = pd.read_csv(TRAIN_CSV, sep = SEP, header = None, names = COLUMNS)\n",
    "dev_df = pd.read_csv(DEV_CSV, sep = SEP, header = None, names = COLUMNS)\n",
    "test_df = pd.read_csv(TEST_CSV, sep = SEP, header = None, names = COLUMNS)"
   ]
  },
  {
   "cell_type": "code",
   "execution_count": 5,
   "metadata": {},
   "outputs": [],
   "source": [
    "preprocessor = TextNormalizer()"
   ]
  },
  {
   "cell_type": "code",
   "execution_count": 6,
   "metadata": {},
   "outputs": [],
   "source": [
    "def preprocess(df, preprocessor):\n",
    "    _df = df.copy()\n",
    "    text_1 = df['text_1']\n",
    "    text_2 = df['text_2']\n",
    "    _text_1 = text_1.apply(preprocessor.transform)\n",
    "    _text_2 = text_2.apply(preprocessor.transform)\n",
    "    _df['text_1'] = _text_1\n",
    "    _df['text_2'] = _text_2\n",
    "    return _df"
   ]
  },
  {
   "cell_type": "code",
   "execution_count": 7,
   "metadata": {},
   "outputs": [],
   "source": [
    "_train_df = preprocess(train_df, preprocessor)\n",
    "_dev_df = preprocess(dev_df, preprocessor)\n",
    "_test_df = preprocess(test_df, preprocessor)\n",
    "\n",
    "_train_samples_df = _train_df[:1000]"
   ]
  },
  {
   "cell_type": "code",
   "execution_count": 8,
   "metadata": {},
   "outputs": [
    {
     "data": {
      "text/html": [
       "<div>\n",
       "<style scoped>\n",
       "    .dataframe tbody tr th:only-of-type {\n",
       "        vertical-align: middle;\n",
       "    }\n",
       "\n",
       "    .dataframe tbody tr th {\n",
       "        vertical-align: top;\n",
       "    }\n",
       "\n",
       "    .dataframe thead th {\n",
       "        text-align: right;\n",
       "    }\n",
       "</style>\n",
       "<table border=\"1\" class=\"dataframe\">\n",
       "  <thead>\n",
       "    <tr style=\"text-align: right;\">\n",
       "      <th></th>\n",
       "      <th>text_1</th>\n",
       "      <th>text_2</th>\n",
       "      <th>label</th>\n",
       "    </tr>\n",
       "  </thead>\n",
       "  <tbody>\n",
       "    <tr>\n",
       "      <th>0</th>\n",
       "      <td>喜欢打篮球的男生喜欢什么样的女生</td>\n",
       "      <td>爱打篮球的男生喜欢什么样的女生</td>\n",
       "      <td>1</td>\n",
       "    </tr>\n",
       "    <tr>\n",
       "      <th>1</th>\n",
       "      <td>我手机丢了，我想换个手机</td>\n",
       "      <td>我想买个新手机，求推荐</td>\n",
       "      <td>1</td>\n",
       "    </tr>\n",
       "    <tr>\n",
       "      <th>2</th>\n",
       "      <td>大家觉得她好看吗</td>\n",
       "      <td>大家觉得跑男好看吗？</td>\n",
       "      <td>0</td>\n",
       "    </tr>\n",
       "    <tr>\n",
       "      <th>3</th>\n",
       "      <td>求秋色之空漫画全集</td>\n",
       "      <td>求秋色之空全集漫画</td>\n",
       "      <td>1</td>\n",
       "    </tr>\n",
       "    <tr>\n",
       "      <th>4</th>\n",
       "      <td>晚上睡觉带着耳机听音乐有什么害处吗？</td>\n",
       "      <td>孕妇可以戴耳机听音乐吗?</td>\n",
       "      <td>0</td>\n",
       "    </tr>\n",
       "  </tbody>\n",
       "</table>\n",
       "</div>"
      ],
      "text/plain": [
       "               text_1           text_2  label\n",
       "0    喜欢打篮球的男生喜欢什么样的女生  爱打篮球的男生喜欢什么样的女生      1\n",
       "1        我手机丢了，我想换个手机      我想买个新手机，求推荐      1\n",
       "2            大家觉得她好看吗       大家觉得跑男好看吗？      0\n",
       "3           求秋色之空漫画全集        求秋色之空全集漫画      1\n",
       "4  晚上睡觉带着耳机听音乐有什么害处吗？     孕妇可以戴耳机听音乐吗?      0"
      ]
     },
     "execution_count": 8,
     "metadata": {},
     "output_type": "execute_result"
    }
   ],
   "source": [
    "train_df.head()"
   ]
  },
  {
   "cell_type": "code",
   "execution_count": 9,
   "metadata": {},
   "outputs": [
    {
     "data": {
      "text/html": [
       "<div>\n",
       "<style scoped>\n",
       "    .dataframe tbody tr th:only-of-type {\n",
       "        vertical-align: middle;\n",
       "    }\n",
       "\n",
       "    .dataframe tbody tr th {\n",
       "        vertical-align: top;\n",
       "    }\n",
       "\n",
       "    .dataframe thead th {\n",
       "        text-align: right;\n",
       "    }\n",
       "</style>\n",
       "<table border=\"1\" class=\"dataframe\">\n",
       "  <thead>\n",
       "    <tr style=\"text-align: right;\">\n",
       "      <th></th>\n",
       "      <th>text_1</th>\n",
       "      <th>text_2</th>\n",
       "      <th>label</th>\n",
       "    </tr>\n",
       "  </thead>\n",
       "  <tbody>\n",
       "    <tr>\n",
       "      <th>0</th>\n",
       "      <td>喜欢打篮球的男生喜欢什么样的女生</td>\n",
       "      <td>爱打篮球的男生喜欢什么样的女生</td>\n",
       "      <td>1</td>\n",
       "    </tr>\n",
       "    <tr>\n",
       "      <th>1</th>\n",
       "      <td>我手机丢了我想换个手机</td>\n",
       "      <td>我想买个新手机求推荐</td>\n",
       "      <td>1</td>\n",
       "    </tr>\n",
       "    <tr>\n",
       "      <th>2</th>\n",
       "      <td>大家觉得她好看吗</td>\n",
       "      <td>大家觉得跑男好看吗</td>\n",
       "      <td>0</td>\n",
       "    </tr>\n",
       "    <tr>\n",
       "      <th>3</th>\n",
       "      <td>求秋色之空漫画全集</td>\n",
       "      <td>求秋色之空全集漫画</td>\n",
       "      <td>1</td>\n",
       "    </tr>\n",
       "    <tr>\n",
       "      <th>4</th>\n",
       "      <td>晚上睡觉带着耳机听音乐有什么害处吗</td>\n",
       "      <td>孕妇可以戴耳机听音乐吗</td>\n",
       "      <td>0</td>\n",
       "    </tr>\n",
       "  </tbody>\n",
       "</table>\n",
       "</div>"
      ],
      "text/plain": [
       "              text_1           text_2  label\n",
       "0   喜欢打篮球的男生喜欢什么样的女生  爱打篮球的男生喜欢什么样的女生      1\n",
       "1        我手机丢了我想换个手机       我想买个新手机求推荐      1\n",
       "2           大家觉得她好看吗        大家觉得跑男好看吗      0\n",
       "3          求秋色之空漫画全集        求秋色之空全集漫画      1\n",
       "4  晚上睡觉带着耳机听音乐有什么害处吗      孕妇可以戴耳机听音乐吗      0"
      ]
     },
     "execution_count": 9,
     "metadata": {},
     "output_type": "execute_result"
    }
   ],
   "source": [
    "_train_df.head()"
   ]
  },
  {
   "cell_type": "code",
   "execution_count": 10,
   "metadata": {},
   "outputs": [],
   "source": [
    "_train_df.to_csv(PROCESSED_TRAIN_CSV, index=False, sep= SEP)\n",
    "_dev_df.to_csv(PROCESSED_DEV_CSV, index=False, sep= SEP)\n",
    "_test_df.to_csv(PROCESSED_TEST_CSV, index=False, sep=SEP)\n",
    "\n",
    "_train_samples_df.to_csv(PROCESSED_TRAIN_SAMPLES_CSV, index=False, sep=SEP)"
   ]
  },
  {
   "cell_type": "code",
   "execution_count": null,
   "metadata": {},
   "outputs": [],
   "source": []
  }
 ],
 "metadata": {
  "kernelspec": {
   "display_name": "Python 3",
   "language": "python",
   "name": "python3"
  },
  "language_info": {
   "codemirror_mode": {
    "name": "ipython",
    "version": 3
   },
   "file_extension": ".py",
   "mimetype": "text/x-python",
   "name": "python",
   "nbconvert_exporter": "python",
   "pygments_lexer": "ipython3",
   "version": "3.7.3"
  }
 },
 "nbformat": 4,
 "nbformat_minor": 2
}
